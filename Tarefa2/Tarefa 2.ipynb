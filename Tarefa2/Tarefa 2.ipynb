{
 "cells": [
  {
   "cell_type": "markdown",
   "id": "11745dfc-1d58-4ecb-82e8-9c08f371040f",
   "metadata": {},
   "source": [
    "# **Tarefa 2 – Web Scraping em Ambiente Real (30%)**\n",
    "### **Disciplina**: Coleta, Preparação e Análise de Dados - Prof. Lucas Pessutto\n",
    "\n",
    "#### **Integrantes do grupo**: Ana Cristina Schmidt e Jeniffer Borges"
   ]
  },
  {
   "cell_type": "code",
   "execution_count": 146,
   "id": "28b21980-ee63-4fb8-a947-95f2f1a2d879",
   "metadata": {},
   "outputs": [],
   "source": [
    "from selenium import webdriver\n",
    "from selenium.webdriver.common.by import By\n",
    "import re\n",
    "from PIL import Image\n",
    "import requests\n",
    "import io\n",
    "import json"
   ]
  },
  {
   "cell_type": "code",
   "execution_count": 147,
   "id": "80a4893b-0a47-486d-b144-b05a9b5e4899",
   "metadata": {},
   "outputs": [],
   "source": [
    "driver = webdriver.Chrome()"
   ]
  },
  {
   "cell_type": "code",
   "execution_count": 148,
   "id": "092d3cec-f483-4784-88e6-635a997f7c46",
   "metadata": {},
   "outputs": [],
   "source": [
    "driver.get(\"https://www.imdb.com/chart/top/?ref_=nv_mv_250\")"
   ]
  },
  {
   "cell_type": "code",
   "execution_count": 149,
   "id": "b64e6a93",
   "metadata": {},
   "outputs": [],
   "source": [
    "#driver.maximize_window()\n",
    "\n",
    "filmes_info = []"
   ]
  },
  {
   "cell_type": "code",
   "execution_count": 150,
   "id": "88343fb0-44d1-493f-b807-adb64ffeea79",
   "metadata": {},
   "outputs": [],
   "source": [
    "titulos_filmes = []\n",
    "titulos = driver.find_elements(By.XPATH, \"//h3[@class='ipc-title__text' and number(substring-before(., '.')) ]\")\n",
    "\n",
    "for titulo in titulos:\n",
    "    titulos_filmes.append(titulo.text)"
   ]
  },
  {
   "cell_type": "code",
   "execution_count": 151,
   "id": "8221c046-5d5f-4519-9740-642fb29cf431",
   "metadata": {},
   "outputs": [],
   "source": [
    "duracoes_filmes = []\n",
    "duracao_filmes = driver.find_elements(By.CLASS_NAME, \"sc-b189961a-8\")\n",
    "\n",
    "tempo_pattern = re.compile(r'(\\d{1}h( \\d{1,2}m)?)|(\\d{1,2}m)')\n",
    "\n",
    "for duracao in duracao_filmes:\n",
    "    if tempo_pattern.match(duracao.text):\n",
    "        duracoes_filmes.append(duracao.text)"
   ]
  },
  {
   "cell_type": "code",
   "execution_count": 152,
   "id": "51437243-3aa7-496d-8652-f3d40feeed11",
   "metadata": {},
   "outputs": [],
   "source": [
    "notas_filmes = []\n",
    "notas = driver.find_elements(By.CLASS_NAME, \"ipc-rating-star--rating\")\n",
    "\n",
    "nota_pattern = re.compile(r'\\d+,\\d')\n",
    "\n",
    "for nota in notas:\n",
    "    if nota_pattern.match(nota.text):\n",
    "        notas_filmes.append(nota.text)"
   ]
  },
  {
   "cell_type": "code",
   "execution_count": 153,
   "id": "f0c930f4-c6e2-4c27-93be-e8d92f47e0c5",
   "metadata": {},
   "outputs": [],
   "source": [
    "imagens_filmes = []\n",
    "imagens = driver.find_elements(By.XPATH, \"//img[@class='ipc-image']\")\n",
    "\n",
    "qnd_filme = 250\n",
    "\n",
    "for i, imagem in enumerate(imagens[:qnd_filme]):\n",
    "    imagem_url = imagem.get_attribute('src')\n",
    "    \n",
    "    imagens_filmes.append(imagem_url)\n",
    "    \n",
    "    #imagem_arq = requests.get(imagem_url).content\n",
    "    #imagem = Image.open(io.BytesIO(imagem_arq))\n",
    "    #display(imagem)\n",
    "    \n",
    "    filme = {\n",
    "            \"titulo\": titulos_filmes[i],\n",
    "            \"imagem_url\": imagem_url,\n",
    "            \"duracao\": duracoes_filmes[i] if i < len(duracoes_filmes) else \"N/A\",\n",
    "            \"nota\": notas_filmes[i] if i < len(notas_filmes) else \"N/A\"\n",
    "        }\n",
    "\n",
    "    filmes_info.append(filme)\n",
    "    \n"
   ]
  },
  {
   "cell_type": "code",
   "execution_count": 154,
   "id": "83eb8cfd-e795-48b7-a457-df8cc21ae4f9",
   "metadata": {},
   "outputs": [
    {
     "name": "stdout",
     "output_type": "stream",
     "text": [
      "Informações dos filmes salvas no arquivo 'filmes.json'.\n"
     ]
    }
   ],
   "source": [
    "nome_arq = \"filmes\"\n",
    "\n",
    "with open(f'{nome_arq}.json', 'w', encoding='utf-8') as json_file:\n",
    "    json.dump(filmes_info, json_file, ensure_ascii=False, indent=4)\n",
    "    \n",
    "print(f\"Informações dos filmes salvas no arquivo '{nome_arq}.json'.\")\n",
    "    "
   ]
  }
 ],
 "metadata": {
  "kernelspec": {
   "display_name": "Python 3 (ipykernel)",
   "language": "python",
   "name": "python3"
  },
  "language_info": {
   "codemirror_mode": {
    "name": "ipython",
    "version": 3
   },
   "file_extension": ".py",
   "mimetype": "text/x-python",
   "name": "python",
   "nbconvert_exporter": "python",
   "pygments_lexer": "ipython3",
   "version": "3.12.3"
  }
 },
 "nbformat": 4,
 "nbformat_minor": 5
}
